{
    "cells": [
        {
            "cell_type": "markdown",
            "source": [
                "# Starting point of the project code"
            ],
            "metadata": {}
        }
    ],
    "metadata": {
        "orig_nbformat": 4,
        "language_info": {
            "name": "python",
            "version": "3.8.11"
        },
        "kernelspec": {
            "name": "python3",
            "display_name": "Python 3.8.11 64-bit ('base': conda)"
        },
        "interpreter": {
            "hash": "78f70351244a162007f313e19fdeab239041b1a8f4c86a6cdd90197abd1250c2"
        }
    },
    "nbformat": 4,
    "nbformat_minor": 2
}