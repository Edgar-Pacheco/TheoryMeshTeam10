{
    "cells": [
        {
            "cell_type": "code",
            "execution_count": null,
            "source": [
                "#Basic libraries\r\n",
                "import numpy as np\r\n",
                "import pandas as pd"
            ],
            "outputs": [],
            "metadata": {}
        }
    ],
    "metadata": {
        "orig_nbformat": 4,
        "language_info": {
            "name": "python"
        }
    },
    "nbformat": 4,
    "nbformat_minor": 2
}